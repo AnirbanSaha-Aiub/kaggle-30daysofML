{
 "cells": [
  {
   "cell_type": "markdown",
   "metadata": {},
   "source": [
    "# Intro\n",
    "This course covers the key Python skills you’ll need so you can start using Python for data science. The course is ideal for someone with some previous coding experience who wants to add Python to their repertoire or level up their basic Python skills. (If you're a first-time coder, you may want to check out these \"Python for Non-Programmers\" learning resources.)\n",
    "\n",
    "We'll start with a brief overview of Python syntax, variable assignment, and arithmetic operators. If you have previous Python experience, you can skip straight to the hands-on exercise.\n",
    "\n"
   ]
  },
  {
   "cell_type": "markdown",
   "metadata": {},
   "source": [
    "# Hello, Python!\n",
    "Python was named for the British comedy troupe Monty Python, so we'll make our first Python program an homage to their skit about Spam?\n",
    "\n",
    "Just for fun, try reading over the code below and predicting what it's going to do when run. (If you have no idea, that's fine!)\n",
    "\n",
    "Then click the \"output\" button to see the results of our program."
   ]
  },
  {
   "cell_type": "code",
   "execution_count": 4,
   "metadata": {},
   "outputs": [
    {
     "name": "stdout",
     "output_type": "stream",
     "text": [
      "0\n",
      "But I don't want ANY spam!\n",
      "Spam Spam Spam Spam \n"
     ]
    }
   ],
   "source": [
    "spam_amount = 0\n",
    "print(spam_amount)\n",
    "\n",
    "# Ordering Spam, egg, Spam, Spam, bacon and Spam (4 more servings of Spam)\n",
    "spam_amount = spam_amount + 4\n",
    "\n",
    "if spam_amount > 0:\n",
    "    print(\"But I don't want ANY spam!\")\n",
    "\n",
    "viking_song = \"Spam \" * spam_amount\n",
    "print(viking_song)"
   ]
  },
  {
   "cell_type": "markdown",
   "metadata": {},
   "source": [
    "# Numbers and arithmetic in Python"
   ]
  },
  {
   "cell_type": "code",
   "execution_count": 5,
   "metadata": {},
   "outputs": [
    {
     "data": {
      "text/plain": [
       "int"
      ]
     },
     "execution_count": 5,
     "metadata": {},
     "output_type": "execute_result"
    }
   ],
   "source": [
    "type(spam_amount)"
   ]
  },
  {
   "cell_type": "code",
   "execution_count": 9,
   "metadata": {},
   "outputs": [
    {
     "data": {
      "text/plain": [
       "int"
      ]
     },
     "execution_count": 9,
     "metadata": {},
     "output_type": "execute_result"
    }
   ],
   "source": [
    "a = 8\n",
    "type(a)"
   ]
  },
  {
   "cell_type": "markdown",
   "metadata": {},
   "source": [
    "type() is the second built-in function we've seen (after print()), and it's another good one to remember. It's very useful to be able to ask Python \"what kind of thing is this?\"."
   ]
  },
  {
   "cell_type": "markdown",
   "metadata": {},
   "source": [
    "A natural thing to want to do with numbers is perform arithmetic. We've seen the + operator for addition, and the * operator for multiplication (of a sort). Python also has us covered for the rest of the basic buttons on your calculator:\n",
    "\n",
    "|Operator|\tName|\tDescription|\n",
    "|a + b\t|Addition|\tSum of a and b|\n",
    "|a - b|\tSubtraction|\tDifference of a and b|\n",
    "|a * b|\tMultiplication\tProduct of a and b\n",
    "|a / b|\tTrue division\tQuotient of a and b\n",
    "|a // b|\tFloor division\tQuotient of a and b, removing fractional parts\n",
    "|a % b|\tModulus\tInteger remainder after division of a by b\n",
    "|a ** b|\tExponentiation\t|a raised to the power of b|\n",
    "|-a|\tNegation|\tThe negative of a|\n",
    "\n",
    "One interesting observation here is that, whereas your calculator probably just has one button for division, Python can do two kinds. \"True division\" is basically what your calculator does:"
   ]
  },
  {
   "cell_type": "code",
   "execution_count": 15,
   "metadata": {},
   "outputs": [
    {
     "name": "stdout",
     "output_type": "stream",
     "text": [
      "6 // 2\n"
     ]
    }
   ],
   "source": [
    "print(\"6 // 2\")"
   ]
  },
  {
   "cell_type": "markdown",
   "metadata": {},
   "source": [
    "# Order of operations\n",
    "The arithmetic we learned in primary school has conventions about the order in which operations are evaluated. Some remember these by a mnemonic such as PEMDAS - Parentheses, Exponents, Multiplication/Division, Addition/Subtraction.\n",
    "\n",
    "Python follows similar rules about which calculations to perform first. They're mostly pretty intuitive."
   ]
  },
  {
   "cell_type": "code",
   "execution_count": 16,
   "metadata": {},
   "outputs": [
    {
     "data": {
      "text/plain": [
       "5"
      ]
     },
     "execution_count": 16,
     "metadata": {},
     "output_type": "execute_result"
    }
   ],
   "source": [
    "-3 + 4 * 2"
   ]
  },
  {
   "cell_type": "code",
   "execution_count": 18,
   "metadata": {},
   "outputs": [
    {
     "name": "stdout",
     "output_type": "stream",
     "text": [
      "Height in meters = 2.15\n"
     ]
    }
   ],
   "source": [
    "hat_height_cm = 25\n",
    "my_height_cm = 190\n",
    "# How tall am I, in meters, when wearing my hat?\n",
    "total_height_meters = (hat_height_cm + my_height_cm) / 100\n",
    "print(\"Height in meters =\", total_height_meters)"
   ]
  },
  {
   "cell_type": "markdown",
   "metadata": {},
   "source": [
    "# Builtin functions for working with numbers"
   ]
  },
  {
   "cell_type": "markdown",
   "metadata": {},
   "source": [
    "min and max return the minimum and maximum of their arguments, respectively..."
   ]
  },
  {
   "cell_type": "code",
   "execution_count": 20,
   "metadata": {},
   "outputs": [
    {
     "name": "stdout",
     "output_type": "stream",
     "text": [
      "1\n",
      "9\n"
     ]
    }
   ],
   "source": [
    "print(min(1, 5, 2))\n",
    "print(max(7, 9, 3))"
   ]
  },
  {
   "cell_type": "markdown",
   "metadata": {},
   "source": [
    "## abs returns the absolute value of it argument:"
   ]
  },
  {
   "cell_type": "code",
   "execution_count": 21,
   "metadata": {},
   "outputs": [
    {
     "name": "stdout",
     "output_type": "stream",
     "text": [
      "32\n",
      "32\n"
     ]
    }
   ],
   "source": [
    "print(abs(32))\n",
    "print(abs(-32))"
   ]
  },
  {
   "cell_type": "markdown",
   "metadata": {},
   "source": [
    "#### In addition to being the names of Python's two main numerical types, int and float can also be called as functions which convert their arguments to the corresponding type:"
   ]
  },
  {
   "cell_type": "code",
   "execution_count": 24,
   "metadata": {},
   "outputs": [
    {
     "name": "stdout",
     "output_type": "stream",
     "text": [
      "10.0\n",
      "3\n",
      "570\n"
     ]
    }
   ],
   "source": [
    "print(float(10))\n",
    "print(int(3.33))\n",
    "# They can even be called on strings!\n",
    "print(int('569') + 1)"
   ]
  },
  {
   "cell_type": "markdown",
   "metadata": {},
   "source": [
    "###### Add code to the following cell to swap variables a and b (so that a refers to the object previously referred to by b and vice versa)."
   ]
  },
  {
   "cell_type": "code",
   "execution_count": 25,
   "metadata": {},
   "outputs": [
    {
     "name": "stdout",
     "output_type": "stream",
     "text": [
      "[3, 2, 1]\n",
      "[1, 2, 3]\n"
     ]
    }
   ],
   "source": [
    "a = [1, 2, 3]\n",
    "b = [3, 2, 1]\n",
    "a, b = b, a\n",
    "print(a)\n",
    "print(b)"
   ]
  },
  {
   "cell_type": "markdown",
   "metadata": {},
   "source": [
    "Alice, Bob and Carol have agreed to pool their Halloween candy and split it evenly among themselves. For the sake of their friendship, any candies left over will be smashed. For example, if they collectively bring home 91 candies, they'll take 30 each and smash 1.\n",
    "Write an arithmetic expression below to calculate how many candies they must smash for a given haul."
   ]
  },
  {
   "cell_type": "code",
   "execution_count": 26,
   "metadata": {},
   "outputs": [
    {
     "name": "stdout",
     "output_type": "stream",
     "text": [
      "1\n"
     ]
    }
   ],
   "source": [
    "# Variables representing the number of candies collected by alice, bob, and carol\n",
    "alice_candies = 121\n",
    "bob_candies = 77\n",
    "carol_candies = 109\n",
    "\n",
    "# Your code goes here! Replace the right-hand side of this assignment with an expression\n",
    "# involving alice_candies, bob_candies, and carol_candies\n",
    "to_smash = (alice_candies + bob_candies + carol_candies) % 3\n",
    "print(to_smash)"
   ]
  },
  {
   "cell_type": "code",
   "execution_count": null,
   "metadata": {},
   "outputs": [],
   "source": []
  }
 ],
 "metadata": {
  "kernelspec": {
   "display_name": "Python 3",
   "language": "python",
   "name": "python3"
  },
  "language_info": {
   "codemirror_mode": {
    "name": "ipython",
    "version": 3
   },
   "file_extension": ".py",
   "mimetype": "text/x-python",
   "name": "python",
   "nbconvert_exporter": "python",
   "pygments_lexer": "ipython3",
   "version": "3.8.5"
  }
 },
 "nbformat": 4,
 "nbformat_minor": 4
}
